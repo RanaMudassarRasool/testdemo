{
  "cells": [
    {
      "cell_type": "markdown",
      "metadata": {
        "id": "view-in-github",
        "colab_type": "text"
      },
      "source": [
        "<a href=\"https://colab.research.google.com/github/ranamaddy/testdemo/blob/main/4_1_Notes.ipynb\" target=\"_parent\"><img src=\"https://colab.research.google.com/assets/colab-badge.svg\" alt=\"Open In Colab\"/></a>"
      ]
    },
    {
      "cell_type": "markdown",
      "metadata": {
        "id": "rhYgNt1wQ62h"
      },
      "source": [
        "# Python Comments"
      ]
    },
    {
      "cell_type": "markdown",
      "metadata": {
        "id": "aHq8xmMTQ62t"
      },
      "source": [
        "Comments are lines that exist in computer programs that are ignored by compilers and interpreters.\n",
        "\n",
        "Including comments in programs makes code more readable for humans as it provides some information or explanation about what each part of a program is doing.\n",
        "\n",
        "In general, it is a good idea to write comments while you are writing or updating a program as it is easy to forget your thought process later on, and comments written later may be less useful in the long term."
      ]
    },
    {
      "cell_type": "markdown",
      "metadata": {
        "id": "82csqd3oQ62u"
      },
      "source": [
        "In Python, we use the hash (#) symbol to start writing a comment."
      ]
    },
    {
      "cell_type": "code",
      "execution_count": null,
      "metadata": {
        "id": "Dpp2cNYWQ62v",
        "outputId": "ffdf58db-c2a5-4135-bf14-0184412480f3"
      },
      "outputs": [
        {
          "name": "stdout",
          "output_type": "stream",
          "text": [
            "Hello, world\n"
          ]
        }
      ],
      "source": [
        "#Print Hello, world to console\n",
        "print(\"Hello, world\")"
      ]
    },
    {
      "cell_type": "markdown",
      "metadata": {
        "id": "IkAlTng3Q62x"
      },
      "source": [
        "# Multi Line Comments"
      ]
    },
    {
      "cell_type": "markdown",
      "metadata": {
        "id": "rvXKYAa1Q62x"
      },
      "source": [
        "If we have comments that extend multiple lines, one way of doing it is to use hash (#) in the beginning of each line."
      ]
    },
    {
      "cell_type": "code",
      "execution_count": null,
      "metadata": {
        "collapsed": true,
        "id": "_-27tduBQ62y"
      },
      "outputs": [],
      "source": [
        "#This is a long comment\n",
        "#and it extends\n",
        "#Multiple lines"
      ]
    },
    {
      "cell_type": "markdown",
      "metadata": {
        "id": "5UhSoRV6Q62y"
      },
      "source": [
        "Another way of doing this is to use triple quotes, either ''' or \"\"\"."
      ]
    },
    {
      "cell_type": "code",
      "execution_count": null,
      "metadata": {
        "id": "GPs2dDclQ62z",
        "outputId": "a9910433-3cb7-4798-f96f-3a175294a4cd"
      },
      "outputs": [
        {
          "data": {
            "text/plain": [
              "'This is also a\\nperfect example of\\nmulti-line comments'"
            ]
          },
          "execution_count": 3,
          "metadata": {},
          "output_type": "execute_result"
        }
      ],
      "source": [
        "\"\"\"This is also a\n",
        "perfect example of\n",
        "multi-line comments\"\"\""
      ]
    },
    {
      "cell_type": "markdown",
      "metadata": {
        "id": "oQ4f_-VMQ621"
      },
      "source": [
        "# Python Indentation"
      ]
    },
    {
      "cell_type": "markdown",
      "metadata": {
        "id": "bq5MPabbQ621"
      },
      "source": [
        "1. Most of the programming languages like C, C++, Java use braces { } to define a block of code. Python uses indentation.\n",
        "\n",
        "2. A code block (body of a function, loop etc.) starts with indentation and ends with the first unindented line. The amount of indentation is up to you, but it must be consistent throughout that block.\n",
        "\n",
        "3. Generally four whitespaces are used for indentation and is preferred over tabs."
      ]
    },
    {
      "cell_type": "code",
      "execution_count": null,
      "metadata": {
        "id": "4MhNA1kTQ621",
        "outputId": "728041b8-6547-408e-9746-8e590a20f152"
      },
      "outputs": [
        {
          "name": "stdout",
          "output_type": "stream",
          "text": [
            "0\n",
            "1\n",
            "2\n",
            "3\n",
            "4\n",
            "5\n",
            "6\n",
            "7\n",
            "8\n",
            "9\n"
          ]
        }
      ],
      "source": [
        "for i in range(10):\n",
        "    print i"
      ]
    },
    {
      "cell_type": "markdown",
      "metadata": {
        "id": "qXw9H0yCQ621"
      },
      "source": [
        "Indentation can be ignored in line continuation. But it's a good idea to always indent. It makes the code more readable."
      ]
    },
    {
      "cell_type": "code",
      "execution_count": null,
      "metadata": {
        "id": "xFl3NEr7Q622",
        "outputId": "f327aff0-d410-47fc-a133-5bc8507e65e1"
      },
      "outputs": [
        {
          "name": "stdout",
          "output_type": "stream",
          "text": [
            "Machine Learning\n"
          ]
        }
      ],
      "source": [
        "if True:\n",
        "    print (\"Machine Learning\")\n",
        "    c = \"AAIC\""
      ]
    },
    {
      "cell_type": "code",
      "execution_count": null,
      "metadata": {
        "colab": {
          "base_uri": "https://localhost:8080/"
        },
        "id": "UJ3e-G1dQ622",
        "outputId": "2920e94a-d3ba-4668-ef2a-acc358ba1fc3"
      },
      "outputs": [
        {
          "output_type": "stream",
          "name": "stdout",
          "text": [
            "Machine Learning\n"
          ]
        }
      ],
      "source": [
        "if True:\n",
        "  print (\"Machine Learning\")\n",
        "  c = \"AAIC\""
      ]
    },
    {
      "cell_type": "markdown",
      "metadata": {
        "id": "TGiHvxskQ622"
      },
      "source": [
        "# Python Statement"
      ]
    },
    {
      "cell_type": "markdown",
      "metadata": {
        "id": "2AtIDZ-wQ622"
      },
      "source": [
        "Instructions that a Python interpreter can execute are called statements."
      ]
    },
    {
      "cell_type": "markdown",
      "metadata": {
        "id": "BWfH8v0SQ622"
      },
      "source": [
        "Examples:"
      ]
    },
    {
      "cell_type": "code",
      "execution_count": null,
      "metadata": {
        "collapsed": true,
        "id": "PIcVGbFGQ623"
      },
      "outputs": [],
      "source": [
        " a = 1  #single statement"
      ]
    },
    {
      "cell_type": "markdown",
      "source": [],
      "metadata": {
        "id": "GUhxWv0Yhe_6"
      }
    },
    {
      "cell_type": "markdown",
      "metadata": {
        "id": "j-LV_q4ZQ623"
      },
      "source": [
        "# Multi-Line Statement"
      ]
    },
    {
      "cell_type": "markdown",
      "metadata": {
        "id": "Wl20UFKlQ623"
      },
      "source": [
        "In Python, end of a statement is marked by a newline character. But we can make a statement extend over multiple lines with the line continuation character (\\)."
      ]
    },
    {
      "cell_type": "code",
      "execution_count": null,
      "metadata": {
        "collapsed": true,
        "id": "rpEeh5E2Q623"
      },
      "outputs": [],
      "source": [
        "a = 1 + 2 + 3 + \\\n",
        "    4 + 5 + 6 + \\\n",
        "    7 + 8"
      ]
    },
    {
      "cell_type": "code",
      "execution_count": null,
      "metadata": {
        "colab": {
          "base_uri": "https://localhost:8080/"
        },
        "id": "ttqCBVtCQ624",
        "outputId": "2a391477-3fd7-493e-8098-2289832d301e"
      },
      "outputs": [
        {
          "output_type": "stream",
          "name": "stdout",
          "text": [
            "36\n"
          ]
        }
      ],
      "source": [
        "print (a)"
      ]
    },
    {
      "cell_type": "code",
      "execution_count": null,
      "metadata": {
        "colab": {
          "base_uri": "https://localhost:8080/"
        },
        "id": "J_iDwO2ZQ624",
        "outputId": "35f9cf8e-6a89-41c6-ffaf-867b91d5875f"
      },
      "outputs": [
        {
          "output_type": "stream",
          "name": "stdout",
          "text": [
            "36\n"
          ]
        }
      ],
      "source": [
        "#another way is\n",
        "a = (1 + 2 + 3 +\n",
        "    4 + 5 + 6 +\n",
        "    7 + 8)\n",
        "print (a)"
      ]
    },
    {
      "cell_type": "code",
      "execution_count": null,
      "metadata": {
        "collapsed": true,
        "id": "6dxI2akYQ624"
      },
      "outputs": [],
      "source": [
        "a = 10; b = 20; c = 30   #put multiple statements in a single line using ;"
      ]
    }
  ],
  "metadata": {
    "kernelspec": {
      "display_name": "Python 3",
      "language": "python",
      "name": "python3"
    },
    "language_info": {
      "codemirror_mode": {
        "name": "ipython",
        "version": 3
      },
      "file_extension": ".py",
      "mimetype": "text/x-python",
      "name": "python",
      "nbconvert_exporter": "python",
      "pygments_lexer": "ipython3",
      "version": "3.11.3"
    },
    "colab": {
      "provenance": [],
      "include_colab_link": true
    }
  },
  "nbformat": 4,
  "nbformat_minor": 0
}